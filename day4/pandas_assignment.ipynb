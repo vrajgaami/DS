{
  "nbformat": 4,
  "nbformat_minor": 0,
  "metadata": {
    "colab": {
      "provenance": []
    },
    "kernelspec": {
      "name": "python3",
      "display_name": "Python 3"
    },
    "language_info": {
      "name": "python"
    }
  },
  "cells": [
    {
      "cell_type": "code",
      "execution_count": null,
      "metadata": {
        "id": "KaT5-eQtMFov"
      },
      "outputs": [],
      "source": [
        "#Read titanic dataset and perform following operations and observe output\n",
        "#1. Find total number of survived(0) and non-survived(1)\n",
        "#2. Find max and min fairprice of each Pclass (1 and 2 and 3)\n",
        "#3. Handle missing values in age and cabin columns\n",
        "#4. Find average fair price of lower class people (Pclass = 3) who survived\n",
        "#5. Learn dna implement how to find duplicate columns and rows and how to remove them"
      ]
    }
  ]
}