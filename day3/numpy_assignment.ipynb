{
  "nbformat": 4,
  "nbformat_minor": 0,
  "metadata": {
    "colab": {
      "provenance": []
    },
    "kernelspec": {
      "name": "python3",
      "display_name": "Python 3"
    },
    "language_info": {
      "name": "python"
    }
  },
  "cells": [
    {
      "cell_type": "code",
      "execution_count": null,
      "metadata": {
        "id": "WAu3yLBoEs4m"
      },
      "outputs": [],
      "source": [
        "#create any 3 dimensional array and practice indexing"
      ]
    },
    {
      "cell_type": "code",
      "source": [
        "#create array of suqares of keys of below dictionary\n",
        "#d = {1:2,2:3,3:4,4:5}"
      ],
      "metadata": {
        "id": "heew7jo-tBoD"
      },
      "execution_count": null,
      "outputs": []
    },
    {
      "cell_type": "code",
      "source": [
        "# multiply any 2 dim array to identity matrix (2*2) and comment on result\n"
      ],
      "metadata": {
        "id": "lVm5ozRmtZEK"
      },
      "execution_count": null,
      "outputs": []
    }
  ]
}